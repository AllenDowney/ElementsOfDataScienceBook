{
 "cells": [
  {
   "cell_type": "code",
   "execution_count": null,
   "metadata": {},
   "outputs": [],
   "source": [
    "from os.path import basename, exists\n",
    "\n",
    "def download(url):\n",
    "    filename = basename(url)\n",
    "    if not exists(filename):\n",
    "        from urllib.request import urlretrieve\n",
    "\n",
    "        local, _ = urlretrieve(url, filename)\n",
    "        print(\"Downloaded \" + str(local))\n",
    "    return filename\n",
    "\n",
    "download('https://raw.githubusercontent.com/AllenDowney/ElementsOfDataScience/v1/utils.py')\n",
    "\n",
    "import utils\n",
    "\n",
    "import pandas as pd\n",
    "\n",
    "# pd.set_option('display.latex.repr', True)\n",
    "\n",
    "def to_latex(df, *args, **options):\n",
    "    return df.to_latex(escape=True)\n",
    "\n",
    "pd.DataFrame._repr_html_ = to_latex\n",
    "\n",
    "import warnings\n",
    "warnings.simplefilter(action='ignore', category=FutureWarning)\n",
    "\n",
    "import matplotlib.pyplot as plt\n",
    "\n",
    "# see https://matplotlib.org/stable/users/prev_whats_new/dflt_style_changes.html#figure-size-font-size-and-screen-dpi\n",
    "plt.rcParams['figure.dpi'] = 300\n",
    "\n",
    "#plt.rcParams['figure.figsize'] = (6.4, 4.0)\n",
    "#plt.rcParams['font.size'] = 14\n",
    "#plt.rcParams['legend.fontsize'] = 14\n",
    "#plt.rcParams['axes.titlesize'] = 16\n",
    "\n",
    "# %config InlineBackend.figure_format = 'pdf'"
   ]
  }
 ],
 "metadata": {
  "celltoolbar": "Tags",
  "kernelspec": {
   "display_name": "Python 3 (ipykernel)",
   "language": "python",
   "name": "python3"
  },
  "language_info": {
   "codemirror_mode": {
    "name": "ipython",
    "version": 3
   },
   "file_extension": ".py",
   "mimetype": "text/x-python",
   "name": "python",
   "nbconvert_exporter": "python",
   "pygments_lexer": "ipython3",
   "version": "3.10.13"
  }
 },
 "nbformat": 4,
 "nbformat_minor": 2
}
